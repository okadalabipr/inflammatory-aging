{
 "cells": [
  {
   "cell_type": "code",
   "execution_count": null,
   "id": "2c230be7",
   "metadata": {},
   "outputs": [],
   "source": [
    "from biomass import Model, run_simulation\n",
    "model = Model(\"TNFa_NFkB_model\").create()\n",
    "run_simulation(model, viz_type=\"average\", show_all=True)"
   ]
  },
  {
   "cell_type": "markdown",
   "id": "141292f0",
   "metadata": {},
   "source": [
    "The time-course simulation results will be saved in `TNFa_NFkB_model/figure/simulation/average/`."
   ]
  },
  {
   "cell_type": "code",
   "execution_count": null,
   "id": "4fc458fe",
   "metadata": {},
   "outputs": [],
   "source": []
  }
 ],
 "metadata": {
  "kernelspec": {
   "display_name": "Python 3 (ipykernel)",
   "language": "python",
   "name": "python3"
  },
  "language_info": {
   "codemirror_mode": {
    "name": "ipython",
    "version": 3
   },
   "file_extension": ".py",
   "mimetype": "text/x-python",
   "name": "python",
   "nbconvert_exporter": "python",
   "pygments_lexer": "ipython3",
   "version": "3.9.12"
  }
 },
 "nbformat": 4,
 "nbformat_minor": 5
}
